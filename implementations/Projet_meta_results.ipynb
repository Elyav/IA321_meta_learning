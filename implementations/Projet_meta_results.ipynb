{
  "cells": [
    {
      "cell_type": "markdown",
      "metadata": {
        "id": "X0ZmBuRasL8W"
      },
      "source": [
        "##Aims and objectives:\n",
        "Present the results obtained with ResNet18 on CIFAR10 10% and CIFAR10 total. \n",
        "\n",
        "Present also perf of ResNet18 on specific subset of CIFAR10\n"
      ]
    },
    {
      "cell_type": "code",
      "execution_count": 1,
      "metadata": {
        "id": "82CZ-4zFtKnT"
      },
      "outputs": [],
      "source": [
        "#imports and hyperparameters\n",
        "import torch\n",
        "import torch.nn as nn\n",
        "import torchvision\n",
        "from torchvision import transforms, models\n",
        "import numpy as np"
      ]
    },
    {
      "cell_type": "markdown",
      "metadata": {
        "id": "EH41Zu5tvXem"
      },
      "source": [
        "##Device and hyper parameters:\n"
      ]
    },
    {
      "cell_type": "code",
      "execution_count": 2,
      "metadata": {
        "id": "lQabvMaQvdnf"
      },
      "outputs": [],
      "source": [
        "# Device configuration\n",
        "device = torch.device('cuda' if torch.cuda.is_available() else 'cpu')\n",
        "\n",
        "# Hyper-parameters\n",
        "num_epochs = 10"
      ]
    },
    {
      "cell_type": "markdown",
      "metadata": {
        "id": "MjvRmVCNtPKT"
      },
      "source": [
        "##CIFAR10"
      ]
    },
    {
      "cell_type": "code",
      "execution_count": 3,
      "metadata": {
        "colab": {
          "base_uri": "https://localhost:8080/"
        },
        "id": "PYvAWbM5sF19",
        "outputId": "91200da5-eb3e-49c5-9778-3931b7cf3539"
      },
      "outputs": [
        {
          "output_type": "stream",
          "name": "stdout",
          "text": [
            "Files already downloaded and verified\n"
          ]
        }
      ],
      "source": [
        " # CIFAR-10 dataset\n",
        "\n",
        "# Image preprocessing modules\n",
        "transform = transforms.Compose([\n",
        "    transforms.Pad(4),\n",
        "    transforms.RandomHorizontalFlip(),\n",
        "    transforms.RandomCrop(32),\n",
        "    transforms.ToTensor()])\n",
        "\n",
        "cifar_train = torchvision.datasets.CIFAR10(root='../../data/',\n",
        "                                             train=True, \n",
        "                                             transform=transform,\n",
        "                                             download=True)\n",
        "\n",
        "cifar_test = torchvision.datasets.CIFAR10(root='../../data/',\n",
        "                                            train=False, \n",
        "                                            transform=transforms.ToTensor())\n"
      ]
    },
    {
      "cell_type": "markdown",
      "metadata": {
        "id": "3kuGBs3btS-D"
      },
      "source": [
        "###Split by 10 %"
      ]
    },
    {
      "cell_type": "code",
      "execution_count": 4,
      "metadata": {
        "id": "CEMu-0cstVcG"
      },
      "outputs": [],
      "source": [
        "def split_cifar(p): #p the percentage of cifar kept\n",
        "  #take 10%\n",
        "  data_percent=p\n",
        "  len_train = int(len(cifar_train)*data_percent)\n",
        "  len_test = int(len(cifar_test)*data_percent)\n",
        "  train_dataset = torch.utils.data.Subset(cifar_train, np.arange(len_train))\n",
        "  test_dataset = torch.utils.data.Subset(cifar_test, np.arange(len_test))\n",
        "  return train_dataset, test_dataset"
      ]
    },
    {
      "cell_type": "markdown",
      "metadata": {
        "id": "rB9ijHfqtfGa"
      },
      "source": [
        "##Model: ResNet18 "
      ]
    },
    {
      "cell_type": "code",
      "execution_count": 5,
      "metadata": {
        "id": "ePjFpT4WticT"
      },
      "outputs": [],
      "source": [
        "def get_model():\n",
        "  return models.resnet18(pretrained=False).to(device)"
      ]
    },
    {
      "cell_type": "markdown",
      "metadata": {
        "id": "hFLBehORtuKj"
      },
      "source": [
        "##Train function"
      ]
    },
    {
      "cell_type": "code",
      "execution_count": 6,
      "metadata": {
        "id": "NmMOCwZ5twmO"
      },
      "outputs": [],
      "source": [
        "#objective function\n",
        "\n",
        "def func(params,p): \n",
        "  '''generates and train a ResNet18 model on CIFAR10. accuracy after 10 epochs'''\n",
        "\n",
        "  learning_rate, batch_size = params\n",
        "  learning_rate, batch_size = np.abs(learning_rate), int(np.abs(batch_size))\n",
        "\n",
        "  print (\"Current params : learning_rate:{:.4f}; batch_size:{}\"\n",
        "    .format(learning_rate, batch_size))\n",
        "\n",
        "  #split cifar10\n",
        "  train_dataset, test_dataset = split_cifar(p)\n",
        "\n",
        "  # Data loader using batch size\n",
        "  train_loader = torch.utils.data.DataLoader(dataset=train_dataset,\n",
        "                                           batch_size=batch_size, \n",
        "                                           shuffle=True)\n",
        "\n",
        "  test_loader = torch.utils.data.DataLoader(dataset=test_dataset,\n",
        "                                          batch_size=batch_size, \n",
        "                                          shuffle=False)\n",
        "\n",
        "\n",
        "  #model\n",
        "  model = get_model()\n",
        "\n",
        "  #train the model\n",
        "  criterion = nn.CrossEntropyLoss()\n",
        "  optimizer = torch.optim.Adam(model.parameters(), lr=learning_rate)\n",
        "  scheduler = torch.optim.lr_scheduler.StepLR(optimizer, step_size=1, gamma=0.1)\n",
        "\n",
        "  total_step = len(train_loader)\n",
        "  curr_lr = learning_rate\n",
        "  for epoch in range(num_epochs):\n",
        "    for i, (images, labels) in enumerate(train_loader):\n",
        "      images = images.to(device)\n",
        "      labels = labels.to(device)\n",
        "\n",
        "      # Forward pass\n",
        "      outputs = model(images)\n",
        "      loss = criterion(outputs, labels)\n",
        "\n",
        "      # Backward and optimize\n",
        "      optimizer.zero_grad()\n",
        "      loss.backward()\n",
        "      optimizer.step()\n",
        "    scheduler.step()\n",
        "\n",
        "  #test the model\n",
        "  model.eval()\n",
        "  with torch.no_grad():\n",
        "    correct = 0\n",
        "    total = 0\n",
        "    for images, labels in test_loader:\n",
        "      images = images.to(device)\n",
        "      labels = labels.to(device)\n",
        "      outputs = model(images)\n",
        "      _, predicted = torch.max(outputs.data, 1)\n",
        "      total += labels.size(0)\n",
        "      correct += (predicted == labels).sum().item()\n",
        "  \n",
        "  #compute accuracy\n",
        "  accuracy = correct / total\n",
        "\n",
        "  print(f\"lr :{learning_rate} Inverse accuracy:{accuracy}\")\n",
        "  print()\n",
        "\n",
        "  return accuracy\n"
      ]
    },
    {
      "cell_type": "markdown",
      "metadata": {
        "id": "rtt4u8xavwUG"
      },
      "source": [
        "##Plot results\n",
        "\n",
        "On affiche les résultats obtenus pour 10% de CIFAR10 sur ResNet18 et pour 100% de CIFAR 10"
      ]
    },
    {
      "cell_type": "code",
      "execution_count": 7,
      "metadata": {
        "colab": {
          "base_uri": "https://localhost:8080/"
        },
        "id": "eOXzDjJ8vz0l",
        "outputId": "ef3e8398-d84c-4a9c-dcf8-b8d3b9766484"
      },
      "outputs": [
        {
          "output_type": "stream",
          "name": "stdout",
          "text": [
            "Current params : learning_rate:0.0010; batch_size:64\n"
          ]
        },
        {
          "output_type": "stream",
          "name": "stderr",
          "text": [
            "/usr/local/lib/python3.9/dist-packages/torchvision/models/_utils.py:208: UserWarning: The parameter 'pretrained' is deprecated since 0.13 and may be removed in the future, please use 'weights' instead.\n",
            "  warnings.warn(\n",
            "/usr/local/lib/python3.9/dist-packages/torchvision/models/_utils.py:223: UserWarning: Arguments other than a weight enum or `None` for 'weights' are deprecated since 0.13 and may be removed in the future. The current behavior is equivalent to passing `weights=None`.\n",
            "  warnings.warn(msg)\n"
          ]
        },
        {
          "output_type": "stream",
          "name": "stdout",
          "text": [
            "lr :0.001 Inverse accuracy:0.451\n",
            "\n",
            "CPU times: user 10min 35s, sys: 1.09 s, total: 10min 36s\n",
            "Wall time: 10min 44s\n"
          ]
        }
      ],
      "source": [
        "#on evalue nos différents tests du ResNet18\n",
        "%%time\n",
        "'''\n",
        "On teste pour Learning_rate=1e-3 et batch_size = 64\n",
        "\n",
        "acc = 0.37 si reste à 1e-5 tout le temps sur 10%\n",
        "'''\n",
        "\n",
        "p_list = [0.1]\n",
        "\n",
        "acc_perf = dict()\n",
        "\n",
        "for p in p_list:\n",
        "  acc = func([1e-3,64],p)\n",
        "  acc_perf[f\"CIFAR10_{100*p}%\"] = [acc]"
      ]
    },
    {
      "cell_type": "code",
      "execution_count": 8,
      "metadata": {
        "id": "_po-pyXLXKhJ",
        "colab": {
          "base_uri": "https://localhost:8080/"
        },
        "outputId": "b6685892-1d23-4793-ef9c-2a95a36186a1"
      },
      "outputs": [
        {
          "output_type": "stream",
          "name": "stdout",
          "text": [
            "{'10%': [0.401], '20%': [0.512], '30%': [0.58], '50%': [0.6604], '70%': [0.671], '100%': [0.7791]}\n"
          ]
        }
      ],
      "source": [
        "\n",
        "#from previous simulations\n",
        "#Computed time 4h6min for all the training with ResNet18\n",
        "\n",
        "acc_perf = { #accuracy for the different dataset with the same models\n",
        "    \"10%\":[0.401],\n",
        "    \"20%\" : [0.512],\n",
        "    \"30%\":[0.580],\n",
        "    \"50%\":[0.6604],\n",
        "    \"70%\":[0.671],\n",
        "    \"100%\":[0.7791],\n",
        "}\n",
        "print(acc_perf)\n"
      ]
    },
    {
      "cell_type": "code",
      "execution_count": 9,
      "metadata": {
        "id": "jB2tLnCiwRWG",
        "colab": {
          "base_uri": "https://localhost:8080/",
          "height": 81
        },
        "outputId": "5c1cb118-6685-419c-dd6b-d3bab615271b"
      },
      "outputs": [
        {
          "output_type": "execute_result",
          "data": {
            "text/plain": [
              "     10%    20%   30%     50%    70%    100%\n",
              "0  0.401  0.512  0.58  0.6604  0.671  0.7791"
            ],
            "text/html": [
              "\n",
              "  <div id=\"df-e54d6f09-75cc-4774-b111-8ad4a4af101a\">\n",
              "    <div class=\"colab-df-container\">\n",
              "      <div>\n",
              "<style scoped>\n",
              "    .dataframe tbody tr th:only-of-type {\n",
              "        vertical-align: middle;\n",
              "    }\n",
              "\n",
              "    .dataframe tbody tr th {\n",
              "        vertical-align: top;\n",
              "    }\n",
              "\n",
              "    .dataframe thead th {\n",
              "        text-align: right;\n",
              "    }\n",
              "</style>\n",
              "<table border=\"1\" class=\"dataframe\">\n",
              "  <thead>\n",
              "    <tr style=\"text-align: right;\">\n",
              "      <th></th>\n",
              "      <th>10%</th>\n",
              "      <th>20%</th>\n",
              "      <th>30%</th>\n",
              "      <th>50%</th>\n",
              "      <th>70%</th>\n",
              "      <th>100%</th>\n",
              "    </tr>\n",
              "  </thead>\n",
              "  <tbody>\n",
              "    <tr>\n",
              "      <th>0</th>\n",
              "      <td>0.401</td>\n",
              "      <td>0.512</td>\n",
              "      <td>0.58</td>\n",
              "      <td>0.6604</td>\n",
              "      <td>0.671</td>\n",
              "      <td>0.7791</td>\n",
              "    </tr>\n",
              "  </tbody>\n",
              "</table>\n",
              "</div>\n",
              "      <button class=\"colab-df-convert\" onclick=\"convertToInteractive('df-e54d6f09-75cc-4774-b111-8ad4a4af101a')\"\n",
              "              title=\"Convert this dataframe to an interactive table.\"\n",
              "              style=\"display:none;\">\n",
              "        \n",
              "  <svg xmlns=\"http://www.w3.org/2000/svg\" height=\"24px\"viewBox=\"0 0 24 24\"\n",
              "       width=\"24px\">\n",
              "    <path d=\"M0 0h24v24H0V0z\" fill=\"none\"/>\n",
              "    <path d=\"M18.56 5.44l.94 2.06.94-2.06 2.06-.94-2.06-.94-.94-2.06-.94 2.06-2.06.94zm-11 1L8.5 8.5l.94-2.06 2.06-.94-2.06-.94L8.5 2.5l-.94 2.06-2.06.94zm10 10l.94 2.06.94-2.06 2.06-.94-2.06-.94-.94-2.06-.94 2.06-2.06.94z\"/><path d=\"M17.41 7.96l-1.37-1.37c-.4-.4-.92-.59-1.43-.59-.52 0-1.04.2-1.43.59L10.3 9.45l-7.72 7.72c-.78.78-.78 2.05 0 2.83L4 21.41c.39.39.9.59 1.41.59.51 0 1.02-.2 1.41-.59l7.78-7.78 2.81-2.81c.8-.78.8-2.07 0-2.86zM5.41 20L4 18.59l7.72-7.72 1.47 1.35L5.41 20z\"/>\n",
              "  </svg>\n",
              "      </button>\n",
              "      \n",
              "  <style>\n",
              "    .colab-df-container {\n",
              "      display:flex;\n",
              "      flex-wrap:wrap;\n",
              "      gap: 12px;\n",
              "    }\n",
              "\n",
              "    .colab-df-convert {\n",
              "      background-color: #E8F0FE;\n",
              "      border: none;\n",
              "      border-radius: 50%;\n",
              "      cursor: pointer;\n",
              "      display: none;\n",
              "      fill: #1967D2;\n",
              "      height: 32px;\n",
              "      padding: 0 0 0 0;\n",
              "      width: 32px;\n",
              "    }\n",
              "\n",
              "    .colab-df-convert:hover {\n",
              "      background-color: #E2EBFA;\n",
              "      box-shadow: 0px 1px 2px rgba(60, 64, 67, 0.3), 0px 1px 3px 1px rgba(60, 64, 67, 0.15);\n",
              "      fill: #174EA6;\n",
              "    }\n",
              "\n",
              "    [theme=dark] .colab-df-convert {\n",
              "      background-color: #3B4455;\n",
              "      fill: #D2E3FC;\n",
              "    }\n",
              "\n",
              "    [theme=dark] .colab-df-convert:hover {\n",
              "      background-color: #434B5C;\n",
              "      box-shadow: 0px 1px 3px 1px rgba(0, 0, 0, 0.15);\n",
              "      filter: drop-shadow(0px 1px 2px rgba(0, 0, 0, 0.3));\n",
              "      fill: #FFFFFF;\n",
              "    }\n",
              "  </style>\n",
              "\n",
              "      <script>\n",
              "        const buttonEl =\n",
              "          document.querySelector('#df-e54d6f09-75cc-4774-b111-8ad4a4af101a button.colab-df-convert');\n",
              "        buttonEl.style.display =\n",
              "          google.colab.kernel.accessAllowed ? 'block' : 'none';\n",
              "\n",
              "        async function convertToInteractive(key) {\n",
              "          const element = document.querySelector('#df-e54d6f09-75cc-4774-b111-8ad4a4af101a');\n",
              "          const dataTable =\n",
              "            await google.colab.kernel.invokeFunction('convertToInteractive',\n",
              "                                                     [key], {});\n",
              "          if (!dataTable) return;\n",
              "\n",
              "          const docLinkHtml = 'Like what you see? Visit the ' +\n",
              "            '<a target=\"_blank\" href=https://colab.research.google.com/notebooks/data_table.ipynb>data table notebook</a>'\n",
              "            + ' to learn more about interactive tables.';\n",
              "          element.innerHTML = '';\n",
              "          dataTable['output_type'] = 'display_data';\n",
              "          await google.colab.output.renderOutput(dataTable, element);\n",
              "          const docLink = document.createElement('div');\n",
              "          docLink.innerHTML = docLinkHtml;\n",
              "          element.appendChild(docLink);\n",
              "        }\n",
              "      </script>\n",
              "    </div>\n",
              "  </div>\n",
              "  "
            ]
          },
          "metadata": {},
          "execution_count": 9
        }
      ],
      "source": [
        "#build dataframe with results\n",
        "import numpy as np\n",
        "import pandas as pd\n",
        "\n",
        "df = pd.DataFrame(data=acc_perf)\n",
        "df.head()"
      ]
    },
    {
      "cell_type": "markdown",
      "metadata": {
        "id": "FLlY-3iMwKpn"
      },
      "source": [
        "##Plot results and display performance"
      ]
    },
    {
      "cell_type": "code",
      "execution_count": 10,
      "metadata": {
        "id": "SI3U3bsawNqV",
        "colab": {
          "base_uri": "https://localhost:8080/",
          "height": 313
        },
        "outputId": "1c0b0fad-9a6a-4746-f3dd-13c494c1828d"
      },
      "outputs": [
        {
          "output_type": "execute_result",
          "data": {
            "text/plain": [
              "Text(0, 0.5, 'Accuracy')"
            ]
          },
          "metadata": {},
          "execution_count": 10
        },
        {
          "output_type": "display_data",
          "data": {
            "text/plain": [
              "<Figure size 432x288 with 1 Axes>"
            ],
            "image/png": "[encoded data removed]"
          },
          "metadata": {
            "needs_background": "light"
          }
        }
      ],
      "source": [
        "import matplotlib.pyplot as plt\n",
        "import seaborn as sns\n",
        "\n",
        "sns.barplot(data = df).set(title =\"Performance of a ResNet18 model on subsets of CIFAR10\")\n",
        "plt.xlabel(\"% of CIFAR 10 used for training\")\n",
        "plt.ylabel(\"Accuracy\")"
      ]
    }
  ],
  "metadata": {
    "colab": {
      "provenance": [],
      "collapsed_sections": [
        "X0ZmBuRasL8W"
      ]
    },
    "gpuClass": "standard",
    "kernelspec": {
      "display_name": "Python 3",
      "name": "python3"
    },
    "language_info": {
      "name": "python"
    }
  },
  "nbformat": 4,
  "nbformat_minor": 0
}